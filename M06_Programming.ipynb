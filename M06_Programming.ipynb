{
 "cells": [
  {
   "cell_type": "code",
   "execution_count": 1,
   "id": "2b8df295",
   "metadata": {},
   "outputs": [],
   "source": [
    "# Mark Klingelhoefer\n",
    "# Module 6\n",
    "# Program writes current date to a text file,\n",
    "# then stores the text file into a variable,\n",
    "# then parses the date from the variable"
   ]
  },
  {
   "cell_type": "code",
   "execution_count": 2,
   "id": "e51986d1",
   "metadata": {},
   "outputs": [],
   "source": [
    "# 13.1\n",
    "from datetime import date\n",
    "from datetime import datetime\n",
    "# Assigns today's date to current_time\n",
    "current_date = date.today()\n",
    "# New variable with time as string and not datetime.date\n",
    "current_date_string = current_date.isoformat()\n",
    "# Creates today.txt file with current date written in file\n",
    "with open('today.txt', 'wt') as output:\n",
    "    print(current_date_string, file=output)"
   ]
  },
  {
   "cell_type": "code",
   "execution_count": 3,
   "id": "1c5871d4",
   "metadata": {},
   "outputs": [],
   "source": [
    "# 13.2\n",
    "# Stores content of today.txt into today_string\n",
    "with open('today.txt', 'rt') as input:\n",
    "    today_string = input.read()"
   ]
  },
  {
   "cell_type": "code",
   "execution_count": 4,
   "id": "0691074a",
   "metadata": {},
   "outputs": [
    {
     "data": {
      "text/plain": [
       "datetime.datetime(2023, 7, 17, 0, 0)"
      ]
     },
     "execution_count": 4,
     "metadata": {},
     "output_type": "execute_result"
    }
   ],
   "source": [
    "# 13.3\n",
    "structured_date = '%Y-%m-%d\\n'\n",
    "datetime.strptime(today_string, structured_date)"
   ]
  },
  {
   "cell_type": "code",
   "execution_count": null,
   "id": "2b3f9fa3",
   "metadata": {},
   "outputs": [],
   "source": []
  }
 ],
 "metadata": {
  "kernelspec": {
   "display_name": "Python 3 (ipykernel)",
   "language": "python",
   "name": "python3"
  },
  "language_info": {
   "codemirror_mode": {
    "name": "ipython",
    "version": 3
   },
   "file_extension": ".py",
   "mimetype": "text/x-python",
   "name": "python",
   "nbconvert_exporter": "python",
   "pygments_lexer": "ipython3",
   "version": "3.10.9"
  }
 },
 "nbformat": 4,
 "nbformat_minor": 5
}
